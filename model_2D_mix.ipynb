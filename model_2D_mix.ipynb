{
 "cells": [
  {
   "cell_type": "code",
   "execution_count": 1,
   "metadata": {},
   "outputs": [],
   "source": [
    "import numpy as np\n",
    "import matplotlib.pyplot as plt\n",
    "import time\n",
    "%matplotlib notebook"
   ]
  },
  {
   "cell_type": "code",
   "execution_count": 177,
   "metadata": {},
   "outputs": [],
   "source": [
    "# simulation time\n",
    "sim_time = 20\n",
    "time_step = 1"
   ]
  },
  {
   "cell_type": "code",
   "execution_count": 206,
   "metadata": {},
   "outputs": [],
   "source": [
    "# giu' su sinistra destra\n",
    "colummella = [8,8,12,12]\n",
    "# if in future we want to add lateral pin we already have everything set\n",
    "epidermal_l, epidermal_r = [0,8,0,0], [0,8,0,0]\n",
    "# if we want to add the last 5 cells to be longer this needs fix (grieneisen 2007 fig 1)\n",
    "border_l, border_r = [8,0,0,12], [8,0,12,0]\n",
    "vascular = [8,0,0,0]\n",
    "\n",
    "P_out = np.zeros((22,12,4))\n",
    "\n",
    "# 22 rows, 12 columns. The first is the upmost cell in the tip\n",
    "\n",
    "# cinta esterna della radice (muraria)\n",
    "P_out[0,:,:]=[0,0,0,0]\n",
    "P_out[-1,:,:]=[0,0,0,0]\n",
    "P_out[:,0,:]=[0,0,0,0]\n",
    "P_out[:,-1,:]=[0,0,0,0]\n",
    "\n",
    "# in futuro aggiungeremo un flusso di auxina dallo shoot\n",
    "\n",
    "# defining colummellas\n",
    "P_out[1:4,1:11] = colummella\n",
    "\n",
    "# defining epidermal\n",
    "P_out[4:21,1:3] = epidermal_l\n",
    "P_out[4:21,9:11] = epidermal_r\n",
    "\n",
    "# defining border\n",
    "P_out[4:21,3] = border_l\n",
    "P_out[4:21,8] = border_r\n",
    "\n",
    "# defining vascular\n",
    "P_out[4:21,4:8] = vascular\n",
    "\n",
    "# defining QC in position [4,4:8] same PIN settings as vascular"
   ]
  },
  {
   "cell_type": "code",
   "execution_count": 225,
   "metadata": {
    "scrolled": false
   },
   "outputs": [],
   "source": [
    "def update_2D(cells, source=(4,4), source_val=10, D=0.5, T=0.5, P_out=P_out, decay=0.000005):\n",
    "    \"\"\"\n",
    "    updates vector of cells following equation (1)\n",
    "    \n",
    "    WORKS ONLY FOR 1D MODELS\n",
    "    \n",
    "    cells : numpy array, set of cells to simulate\n",
    "    source : int, index of QC cell\n",
    "    source_val : float, amount of auxin produced at every step by the QC cell\n",
    "    D : float, diffusion rate of auxin\n",
    "    T : float, PIN1-mediated transport rate\n",
    "    P_out : numpy matrix (lenght,width,4), amount of PIN1 that a cell outtakes to every neighbour (down, up, left, right)\n",
    "    \"\"\"\n",
    "    # define neighbours\n",
    "    v = np.array([[-1,0], [1,0], [0,-1], [0,1]])\n",
    "    updated_cells = np.zeros((len(cells),12))\n",
    "    for i, value in enumerate(cells[1:20], 1):\n",
    "        step = np.zeros(cells.shape[1])\n",
    "        for j in range(1,len(cells[i])-1):\n",
    "            neighbours = [cells[k] for k in tuple(map(tuple, v + [i,j]))]\n",
    "            \n",
    "            diffusion_in = D*(sum(neighbours))\n",
    "            diffusion_out = -(1/2.5)*D*value[j]*len(neighbours)\n",
    "            aux_decay = -decay*value[j]\n",
    "\n",
    "            transport_in = T*np.dot(P_out[i,j,:],neighbours)\n",
    "            transport_out = -T*sum(P_out[i,j,:])*value[j]\n",
    "            # last piece is the basal auxin production of each cell (a.u./(micrometers^2*sec))\n",
    "            step[j] = value[j] + transport_in + transport_out + diffusion_in + diffusion_out + aux_decay + 16*24*0.0005\n",
    "#             still not working without this piece\n",
    "#             if step[j] <= 0:\n",
    "#                 step[j] = 0\n",
    "        updated_cells[i,:] = [0] + step + [0]\n",
    "        \n",
    "    updated_cells[source[0], source[1]:source[1]+4] += source_val*16*24\n",
    "    return updated_cells"
   ]
  },
  {
   "cell_type": "code",
   "execution_count": 226,
   "metadata": {},
   "outputs": [
    {
     "data": {
      "image/png": "[encoded data removed]",
      "text/plain": [
       "<Figure size 720x864 with 1 Axes>"
      ]
     },
     "metadata": {
      "needs_background": "light"
     },
     "output_type": "display_data"
    }
   ],
   "source": [
    "%matplotlib inline\n",
    "# number of cells within one single tissue\n",
    "cells_a = np.ones((22,12))*20\n",
    "cells_a[0,:]=0\n",
    "cells_a[-1,:]=20\n",
    "cells_a[:,0]=0\n",
    "cells_a[:,-1]=0\n",
    "# QC cell starts with an initial amount of auxin\n",
    "#cells_a[3][1] = 10\n",
    "cells_a[4,4:8] = 40\n",
    "fig= plt.figure(figsize=(10,12)) #common canvas for any figure\n",
    "plt.ion()\n",
    "plt.title('Time: Beginning')\n",
    "plt.axis('off')\n",
    "plt.imshow(cells_a.T, cmap=\"jet\")\n",
    "cells_out = cells_a\n",
    "\n",
    "for t in np.arange(0, sim_time, time_step):\n",
    "    cells_out = update_2D(cells_out)\n",
    "    plt.imshow(cells_out.T, cmap=\"jet\")\n",
    "    plt.title(f\"Timestep: {str(t)}\")\n",
    "    plt.axis('off')\n",
    "    fig.canvas.draw()\n",
    "    fig.canvas.flush_events()"
   ]
  },
  {
   "cell_type": "code",
   "execution_count": 194,
   "metadata": {},
   "outputs": [
    {
     "data": {
      "text/plain": [
       "<BarContainer object of 22 artists>"
      ]
     },
     "execution_count": 194,
     "metadata": {},
     "output_type": "execute_result"
    },
    {
     "data": {
      "image/png": "[encoded data removed]",
      "text/plain": [
       "<Figure size 432x288 with 1 Axes>"
      ]
     },
     "metadata": {
      "needs_background": "light"
     },
     "output_type": "display_data"
    }
   ],
   "source": [
    "plt.bar(height=cells_out[:,6], x=list(range(len(cells_out[:,1]))))"
   ]
  },
  {
   "cell_type": "markdown",
   "metadata": {},
   "source": [
    "D and T are not working as we can't find a proper way to define them and find an equivalent in the literature. \n",
    "\n",
    "TODO:\n",
    "create a flux model (see grieneisen 2007 Fig 2c) to see whether we can recover a reverse fountain loop (or where where doing it wrong!) "
   ]
  }
 ],
 "metadata": {
  "kernelspec": {
   "display_name": "Python 3",
   "language": "python",
   "name": "python3"
  },
  "language_info": {
   "codemirror_mode": {
    "name": "ipython",
    "version": 3
   },
   "file_extension": ".py",
   "mimetype": "text/x-python",
   "name": "python",
   "nbconvert_exporter": "python",
   "pygments_lexer": "ipython3",
   "version": "3.7.7"
  }
 },
 "nbformat": 4,
 "nbformat_minor": 4
}
